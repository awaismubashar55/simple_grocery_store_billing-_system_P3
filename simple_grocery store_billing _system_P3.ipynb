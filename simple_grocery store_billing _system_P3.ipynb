{
  "cells": [
    {
      "cell_type": "markdown",
      "metadata": {
        "id": "H1GlcVwYmOIk"
      },
      "source": [
        "# \"Simple Grocery Store Billing  System\"\n",
        "***this is very beginner-friendly, practical , and will help you learn Python swtep by step.***"
      ]
    },
    {
      "cell_type": "markdown",
      "metadata": {
        "id": "wioQgADgnPmF"
      },
      "source": [
        " **Simple Grocery Store Billing System**\n",
        "-------------------------------------\n",
        "**Beginner Python Project**\n",
        "**This project will help you unnderstand the basic of python.**\n",
        "\n"
      ]
    },
    {
      "cell_type": "markdown",
      "metadata": {
        "id": "Qkqrl2vMnhk0"
      },
      "source": [
        "**Step 1: Variables**"
      ]
    },
    {
      "cell_type": "code",
      "execution_count": null,
      "metadata": {
        "colab": {
          "base_uri": "https://localhost:8080/"
        },
        "id": "2UGaPDtOngb5",
        "outputId": "05223bd9-604c-4121-c6e5-2a82c14516e1"
      },
      "outputs": [
        {
          "name": "stdout",
          "output_type": "stream",
          "text": [
            "Welcome to Grocery Store \n",
            "Available items today: \n",
            "1.Apple -  Rs 50 per kg\n",
            "2. Banana -Rs 30 per kg\n",
            "3. Orange -Rs 40 per kg\n"
          ]
        }
      ],
      "source": [
        "# Variable are used to store informations.\n",
        "#Let's create some item with their prices\n",
        "item1 = \"Apple\"\n",
        "price1 = 50 #price per kg\n",
        "item2 = \"Banana\"\n",
        "price2 = 30\n",
        "item3 = \"Orange\"\n",
        "price3 = 40\n",
        "\n",
        "print('Welcome to Grocery Store ')\n",
        "print(\"Available items today: \")\n",
        "print(f\"1.{item1} -  Rs {price1} per kg\")\n",
        "print(f\"2. {item2} -Rs {price2} per kg\")\n",
        "print(f\"3. {item3} -Rs {price3} per kg\")"
      ]
    },
    {
      "cell_type": "markdown",
      "metadata": {
        "id": "ZjYdEchVkErE"
      },
      "source": [
        "**Step 2: User Input**\n",
        "\n"
      ]
    },
    {
      "cell_type": "code",
      "execution_count": null,
      "metadata": {
        "colab": {
          "base_uri": "https://localhost:8080/"
        },
        "id": "lv7plUuqvGea",
        "outputId": "c0d53ef4-8267-42d7-ab10-35b544322d71"
      },
      "outputs": [
        {
          "name": "stdout",
          "output_type": "stream",
          "text": [
            "Enter the item number you want to buy2\n",
            "enter quantity in kg: 6\n"
          ]
        }
      ],
      "source": [
        "# Let's take input from the user for what they want to buy.\n",
        "Choice = int(input(\"Enter the item number you want to buy\"))\n",
        "quantity = float(input(\"enter quantity in kg: \"))\n",
        "# NOTE: input() always returns a string, so we use int() or float() to convert it."
      ]
    },
    {
      "cell_type": "markdown",
      "metadata": {
        "id": "n17bgweWwKbC"
      },
      "source": [
        "**Step 3: Conditions (if-elif-else)**\n"
      ]
    },
    {
      "cell_type": "code",
      "execution_count": null,
      "metadata": {
        "colab": {
          "base_uri": "https://localhost:8080/"
        },
        "id": "mwT3lgt3vJbz",
        "outputId": "a15ade4f-18e1-4e54-812c-59a6bef50b7b"
      },
      "outputs": [
        {
          "name": "stdout",
          "output_type": "stream",
          "text": [
            "You selected Banana, 6.0 kg\n"
          ]
        }
      ],
      "source": [
        "# STEP 3: CONDITIONS (if-elif-else)\n",
        "# ---------------------------------\n",
        "# Conditions help us decide which block of code to run.\n",
        "\n",
        "if choice == 1:\n",
        "    item_name = item1\n",
        "    price = price1\n",
        "elif choice == 2:\n",
        "    item_name = item2\n",
        "    price = price2\n",
        "elif choice == 3:\n",
        "    item_name = item3\n",
        "    price = price3\n",
        "else:\n",
        "    item_name = None\n",
        "    price = 0\n",
        "\n",
        "if item_name:   # means if item_name is not None\n",
        "    print(f\"You selected {item_name}, {quantity} kg\")\n",
        "else:\n",
        "    print(\"Invalid choice. Please restart the program.\")\n"
      ]
    },
    {
      "cell_type": "markdown",
      "metadata": {
        "id": "XG03AX5CzV5U"
      },
      "source": [
        "**Step 4: Calculations**"
      ]
    },
    {
      "cell_type": "code",
      "execution_count": 16,
      "metadata": {
        "colab": {
          "base_uri": "https://localhost:8080/"
        },
        "id": "e_pd2Ki8xwdK",
        "outputId": "119e3619-5d5d-42f4-e880-e37e123b16bd"
      },
      "outputs": [
        {
          "name": "stdout",
          "output_type": "stream",
          "text": [
            "Total Bill = Rs 180.0\n"
          ]
        }
      ],
      "source": [
        "if item_name:\n",
        "    total = price * quantity\n",
        "    print(f\"Total Bill = Rs {total}\")"
      ]
    },
    {
      "cell_type": "markdown",
      "metadata": {
        "id": "QRMQYNvwJ5du"
      },
      "source": [
        "**Step 5: Loops**\n"
      ]
    },
    {
      "cell_type": "code",
      "execution_count": null,
      "metadata": {
        "id": "ecuDy6GlJ8Js"
      },
      "outputs": [],
      "source": [
        "while True:\n",
        "    choice = int(input(\"Enter item number to buy (1-3), or 0 to checkout: \"))\n",
        "\n",
        "    if choice == 0:  # exit loop\n",
        "        break\n",
        "\n",
        "    quantity = float(input(\"Enter quantity in kg: \"))\n",
        "\n",
        "    if choice == 1:\n",
        "        cart.append((item1, quantity, price1 * quantity))\n",
        "    elif choice == 2:\n",
        "        cart.append((item2, quantity, price2 * quantity))\n",
        "    elif choice == 3:\n",
        "        cart.append((item3, quantity, price3 * quantity))\n",
        "    else:\n",
        "        print(\"Invalid choice! Please try again.\")\n"
      ]
    },
    {
      "cell_type": "markdown",
      "metadata": {
        "id": "FuhfuH-bNB2N"
      },
      "source": [
        "**Step 6: Functions**"
      ]
    },
    {
      "cell_type": "code",
      "execution_count": null,
      "metadata": {
        "id": "u2_yRBuxKI0x"
      },
      "outputs": [],
      "source": [
        "# STEP 6: FUNCTIONS\n",
        "# -----------------\n",
        "# Functions help us reuse code.\n",
        "# Let's write a function to print the bill.\n",
        "\n",
        "def print_bill(cart):\n",
        "    print(\"\\n🧾 Final Bill\")\n",
        "    print(\"------------------\")\n",
        "    total_amount = 0\n",
        "    for item, qty, cost in cart:\n",
        "        print(f\"{item} - {qty} kg = Rs {cost}\")\n",
        "        total_amount += cost\n",
        "    print(\"------------------\")\n",
        "    print(f\"Total Payable Amount = Rs {total_amount}\")\n",
        "\n",
        "# Call the function\n",
        "print_bill(cart)\n"
      ]
    },
    {
      "cell_type": "markdown",
      "metadata": {
        "id": "toK-7Fm5ROpJ"
      },
      "source": [
        "***this Project covers:***\n",
        "\n",
        "*   Variables\n",
        "*   User input\n",
        "*   Conditions(if-else)\n",
        "*   Loops (while, for)\n",
        "*   Lists\n",
        "*   Functions\n",
        "\n",
        "\n",
        "\n"
      ]
    }
  ],
  "metadata": {
    "colab": {
      "provenance": []
    },
    "kernelspec": {
      "display_name": "Python 3",
      "name": "python3"
    },
    "language_info": {
      "name": "python"
    }
  },
  "nbformat": 4,
  "nbformat_minor": 0
}
